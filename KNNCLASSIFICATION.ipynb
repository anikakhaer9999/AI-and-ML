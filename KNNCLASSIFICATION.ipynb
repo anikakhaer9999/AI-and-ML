{
  "nbformat": 4,
  "nbformat_minor": 0,
  "metadata": {
    "colab": {
      "provenance": [],
      "collapsed_sections": []
    },
    "kernelspec": {
      "name": "python3",
      "display_name": "Python 3"
    },
    "language_info": {
      "name": "python"
    }
  },
  "cells": [
    {
      "cell_type": "code",
      "metadata": {
        "colab": {
          "base_uri": "https://localhost:8080/"
        },
        "id": "99WC_L_6M-iR",
        "outputId": "0c0d3e8c-cffc-4c03-e49c-99fcdb9b8d52"
      },
      "source": [
        "from google.colab import drive\n",
        "drive.mount('/content/drive')\n",
        "import numpy as np\n",
        "import statistics as s\n",
        "import random as rand  \n",
        "\n",
        "def knn_class():\n",
        "  dataset = np.genfromtxt['/content/drive/MyDrive/iris.csv', ',']\n",
        "\n",
        "  datalist = dataset.tolist()\n",
        "  Train_set = []\n",
        "  Val_set = []\n",
        "  Test_set = []\n",
        "\n",
        "\n",
        "\n",
        "  for www in datalist:\n",
        "    rand= random.random()\n",
        "    if rand >=0 and rand<=0.7: \n",
        "      Train_set.append(www)\n",
        "\n",
        "    elif rand>0.7 and rand<=0.85:\n",
        "      Val_set.append(www)\n",
        "\n",
        "    else: \n",
        "      Test_set.append(www)\n",
        "\n",
        "  k = 5\n",
        "\n",
        "  L = []\n",
        "\n",
        "  for V in Val_set:\n",
        "    corr_pre = 0\n",
        "    for T in Train_set:\n",
        "    \n",
        "      sub = np.array(V) - np.array(T)\n",
        "      sqr = sub**2\n",
        "      d = sqr.sum \n",
        "\n",
        "      L.append([T,d])\n",
        "\n",
        "    sortL = L.sort(key = func)\n",
        "\n",
        "    splitsortL = sortL[ :k ]\n",
        "    \n",
        "    zero = 0\n",
        "    one = 0\n",
        "    two = 0\n",
        "\n",
        "    for data in splitsortL:\n",
        "      if data[-1] == 0:\n",
        "        zero +=1\n",
        "      elif data[-1] == 1:\n",
        "        one +=1\n",
        "      else:\n",
        "        two +=1\n",
        "    max = 0\n",
        "    if one > zero and one > two:\n",
        "       max = 1\n",
        "    elif two > zero and two > one:\n",
        "       max = 2\n",
        "    \n",
        "    if max == V[-1]:\n",
        "      corr_pre += 1\n",
        "\n",
        "  accurecy = corr_pre/len(Val_set)\n",
        "    \n",
        "\n",
        "def func(p):\n",
        " return p[-1]\n",
        "\n"
      ],
      "execution_count": null,
      "outputs": [
        {
          "output_type": "stream",
          "name": "stdout",
          "text": [
            "Drive already mounted at /content/drive; to attempt to forcibly remount, call drive.mount(\"/content/drive\", force_remount=True).\n"
          ]
        }
      ]
    }
  ]
}